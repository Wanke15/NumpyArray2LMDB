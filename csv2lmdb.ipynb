{
 "cells": [
  {
   "cell_type": "code",
   "execution_count": 1,
   "metadata": {},
   "outputs": [],
   "source": [
    "import numpy as np\n",
    "import lmdb\n",
    "import caffe\n",
    "import pandas as pd"
   ]
  },
  {
   "cell_type": "markdown",
   "metadata": {},
   "source": [
    "## 1. Load data"
   ]
  },
  {
   "cell_type": "code",
   "execution_count": 2,
   "metadata": {},
   "outputs": [],
   "source": [
    "X_data = pd.read_csv('X_test_sat6.csv', header=None).values.reshape(-1, 28, 28, 4).astype('uint8')\n",
    "y_data = pd.read_csv('y_test_sat6.csv', header=None).values.astype('uint8')"
   ]
  },
  {
   "cell_type": "code",
   "execution_count": 3,
   "metadata": {},
   "outputs": [
    {
     "data": {
      "text/plain": [
       "((81000L, 28L, 28L, 4L), (81000L, 6L))"
      ]
     },
     "execution_count": 3,
     "metadata": {},
     "output_type": "execute_result"
    }
   ],
   "source": [
    "X_data.shape, y_data.shape"
   ]
  },
  {
   "cell_type": "markdown",
   "metadata": {},
   "source": [
    "## 2. Split train and test data"
   ]
  },
  {
   "cell_type": "code",
   "execution_count": 4,
   "metadata": {},
   "outputs": [],
   "source": [
    "np.random.seed(123)\n",
    "shuffle_ids = np.array([i for i in range(len(y_data))])\n",
    "np.random.shuffle(shuffle_ids)\n",
    "train_ids = shuffle_ids[:int(len(y_data)*0.8)]\n",
    "test_ids = shuffle_ids[int(len(y_data)*0.8):]"
   ]
  },
  {
   "cell_type": "code",
   "execution_count": 5,
   "metadata": {},
   "outputs": [],
   "source": [
    "X_train, y_train = X_data[train_ids], y_data[train_ids]\n",
    "X_test, y_test = X_data[test_ids], y_data[test_ids]"
   ]
  },
  {
   "cell_type": "markdown",
   "metadata": {},
   "source": [
    "## 3. Training data\n",
    "<font color='red'>We have to set enough <font color='blue'>**map_size**</font>(byte size) for lmdb data, I set two times  as big as input."
   ]
  },
  {
   "cell_type": "code",
   "execution_count": 6,
   "metadata": {},
   "outputs": [],
   "source": [
    "map_size_train = X_train.nbytes * 2"
   ]
  },
  {
   "cell_type": "code",
   "execution_count": 7,
   "metadata": {},
   "outputs": [],
   "source": [
    "with lmdb.open('sat6_train', map_size=map_size_train) as env:\n",
    "    with env.begin(write=True) as txn:\n",
    "        # txn is a Transaction object\n",
    "        for i in range(X_train.shape[0]):\n",
    "            datum = caffe.proto.caffe_pb2.Datum()\n",
    "            datum.height = X_train.shape[1]\n",
    "            datum.width = X_train.shape[2]\n",
    "            datum.channels = X_train.shape[3]\n",
    "            datum.data = X_train[i].tobytes()  # or .tostring() if numpy < 1.9\n",
    "            datum.label = np.argmax(y_train[i])\n",
    "            str_id = '{:08}'.format(i)\n",
    "\n",
    "            # The encode is only essential in Python 3\n",
    "            # txn.put(str_id.encode('ascii'), datum.SerializeToString())\n",
    "            txn.put(str_id, datum.SerializeToString())"
   ]
  },
  {
   "cell_type": "markdown",
   "metadata": {},
   "source": [
    "## 4. Test data"
   ]
  },
  {
   "cell_type": "code",
   "execution_count": 8,
   "metadata": {},
   "outputs": [],
   "source": [
    "map_size_test = X_test.nbytes * 2"
   ]
  },
  {
   "cell_type": "code",
   "execution_count": 9,
   "metadata": {},
   "outputs": [],
   "source": [
    "with lmdb.open('sat6_test', map_size=map_size_test) as env:\n",
    "    with env.begin(write=True) as txn:\n",
    "        # txn is a Transaction object\n",
    "        for i in range(X_test.shape[0]):\n",
    "            datum = caffe.proto.caffe_pb2.Datum()\n",
    "            datum.height = X_test.shape[1]\n",
    "            datum.width = X_test.shape[2]\n",
    "            datum.channels = X_test.shape[3]\n",
    "            datum.data = X_test[i].tobytes()  # or .tostring() if numpy < 1.9\n",
    "            datum.label = np.argmax(y_test[i])\n",
    "            str_id = '{:08}'.format(i)\n",
    "\n",
    "            # The encode is only essential in Python 3\n",
    "            # txn.put(str_id.encode('ascii'), datum.SerializeToString())\n",
    "            txn.put(str_id, datum.SerializeToString())"
   ]
  }
 ],
 "metadata": {
  "kernelspec": {
   "display_name": "Python 2",
   "language": "python",
   "name": "python2"
  },
  "language_info": {
   "codemirror_mode": {
    "name": "ipython",
    "version": 2
   },
   "file_extension": ".py",
   "mimetype": "text/x-python",
   "name": "python",
   "nbconvert_exporter": "python",
   "pygments_lexer": "ipython2",
   "version": "2.7.15"
  }
 },
 "nbformat": 4,
 "nbformat_minor": 2
}
